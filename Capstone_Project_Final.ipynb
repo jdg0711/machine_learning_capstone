{
 "cells": [
  {
   "cell_type": "markdown",
   "metadata": {},
   "source": [
    "<img src=\"./images/codecademy_logo.png\" style=\"width: 300px;\">\n",
    "\n",
    "# Machine Learning Capstone Project"
   ]
  },
  {
   "cell_type": "markdown",
   "metadata": {},
   "source": [
    "## Introduction\n",
    "\n",
    "For this capstone project, codecademy provided a dataset from **okcupid**, an online dating app that matches users based on a number of multiple choice and short-answer essay questions.\n",
    "\n",
    "From codecademy:\n",
    ">*The purpose of this capstone is to practice formulating questions and implementing Machine Learning techniques to answer those questions.*\n",
    "\n",
    "### Tasks\n",
    "1. Load in the DataFrame\n",
    "2. Explore the Data\n",
    "3. Visualize some of the Data\n",
    "4. Formulate a Question\n",
    "5. Augment your Data\n",
    "6. Normalize your Data\n",
    "7. Use Classification Techniques\n",
    "8. Use Regression Techniques\n",
    "9. Analyze the Accuracy, Precision and Recall\n",
    "10. Create your Presentation"
   ]
  },
  {
   "cell_type": "markdown",
   "metadata": {},
   "source": [
    "# 1. Load in the DataFrame"
   ]
  },
  {
   "cell_type": "code",
   "execution_count": 1,
   "metadata": {},
   "outputs": [],
   "source": [
    "# first, some libraries we'll need\n",
    "import pandas as pd\n",
    "import numpy as np\n",
    "import matplotlib.pyplot as plt\n",
    "import seaborn as sns\n",
    "sns.set()"
   ]
  },
  {
   "cell_type": "code",
   "execution_count": 2,
   "metadata": {},
   "outputs": [],
   "source": [
    "# Load the dataframe\n",
    "df = pd.read_csv('profiles.csv')"
   ]
  },
  {
   "cell_type": "markdown",
   "metadata": {},
   "source": [
    "# 2. Explore the data"
   ]
  },
  {
   "cell_type": "code",
   "execution_count": 3,
   "metadata": {
    "scrolled": true
   },
   "outputs": [
    {
     "data": {
      "text/html": [
       "<div>\n",
       "<style scoped>\n",
       "    .dataframe tbody tr th:only-of-type {\n",
       "        vertical-align: middle;\n",
       "    }\n",
       "\n",
       "    .dataframe tbody tr th {\n",
       "        vertical-align: top;\n",
       "    }\n",
       "\n",
       "    .dataframe thead th {\n",
       "        text-align: right;\n",
       "    }\n",
       "</style>\n",
       "<table border=\"1\" class=\"dataframe\">\n",
       "  <thead>\n",
       "    <tr style=\"text-align: right;\">\n",
       "      <th></th>\n",
       "      <th>age</th>\n",
       "      <th>body_type</th>\n",
       "      <th>diet</th>\n",
       "      <th>drinks</th>\n",
       "      <th>drugs</th>\n",
       "      <th>education</th>\n",
       "      <th>essay0</th>\n",
       "      <th>essay1</th>\n",
       "      <th>essay2</th>\n",
       "      <th>essay3</th>\n",
       "      <th>...</th>\n",
       "      <th>location</th>\n",
       "      <th>offspring</th>\n",
       "      <th>orientation</th>\n",
       "      <th>pets</th>\n",
       "      <th>religion</th>\n",
       "      <th>sex</th>\n",
       "      <th>sign</th>\n",
       "      <th>smokes</th>\n",
       "      <th>speaks</th>\n",
       "      <th>status</th>\n",
       "    </tr>\n",
       "  </thead>\n",
       "  <tbody>\n",
       "    <tr>\n",
       "      <th>0</th>\n",
       "      <td>22</td>\n",
       "      <td>a little extra</td>\n",
       "      <td>strictly anything</td>\n",
       "      <td>socially</td>\n",
       "      <td>never</td>\n",
       "      <td>working on college/university</td>\n",
       "      <td>about me:&lt;br /&gt;\\n&lt;br /&gt;\\ni would love to think...</td>\n",
       "      <td>currently working as an international agent fo...</td>\n",
       "      <td>making people laugh.&lt;br /&gt;\\nranting about a go...</td>\n",
       "      <td>the way i look. i am a six foot half asian, ha...</td>\n",
       "      <td>...</td>\n",
       "      <td>south san francisco, california</td>\n",
       "      <td>doesn&amp;rsquo;t have kids, but might want them</td>\n",
       "      <td>straight</td>\n",
       "      <td>likes dogs and likes cats</td>\n",
       "      <td>agnosticism and very serious about it</td>\n",
       "      <td>m</td>\n",
       "      <td>gemini</td>\n",
       "      <td>sometimes</td>\n",
       "      <td>english</td>\n",
       "      <td>single</td>\n",
       "    </tr>\n",
       "    <tr>\n",
       "      <th>1</th>\n",
       "      <td>35</td>\n",
       "      <td>average</td>\n",
       "      <td>mostly other</td>\n",
       "      <td>often</td>\n",
       "      <td>sometimes</td>\n",
       "      <td>working on space camp</td>\n",
       "      <td>i am a chef: this is what that means.&lt;br /&gt;\\n1...</td>\n",
       "      <td>dedicating everyday to being an unbelievable b...</td>\n",
       "      <td>being silly. having ridiculous amonts of fun w...</td>\n",
       "      <td>NaN</td>\n",
       "      <td>...</td>\n",
       "      <td>oakland, california</td>\n",
       "      <td>doesn&amp;rsquo;t have kids, but might want them</td>\n",
       "      <td>straight</td>\n",
       "      <td>likes dogs and likes cats</td>\n",
       "      <td>agnosticism but not too serious about it</td>\n",
       "      <td>m</td>\n",
       "      <td>cancer</td>\n",
       "      <td>no</td>\n",
       "      <td>english (fluently), spanish (poorly), french (...</td>\n",
       "      <td>single</td>\n",
       "    </tr>\n",
       "    <tr>\n",
       "      <th>2</th>\n",
       "      <td>38</td>\n",
       "      <td>thin</td>\n",
       "      <td>anything</td>\n",
       "      <td>socially</td>\n",
       "      <td>NaN</td>\n",
       "      <td>graduated from masters program</td>\n",
       "      <td>i'm not ashamed of much, but writing public te...</td>\n",
       "      <td>i make nerdy software for musicians, artists, ...</td>\n",
       "      <td>improvising in different contexts. alternating...</td>\n",
       "      <td>my large jaw and large glasses are the physica...</td>\n",
       "      <td>...</td>\n",
       "      <td>san francisco, california</td>\n",
       "      <td>NaN</td>\n",
       "      <td>straight</td>\n",
       "      <td>has cats</td>\n",
       "      <td>NaN</td>\n",
       "      <td>m</td>\n",
       "      <td>pisces but it doesn&amp;rsquo;t matter</td>\n",
       "      <td>no</td>\n",
       "      <td>english, french, c++</td>\n",
       "      <td>available</td>\n",
       "    </tr>\n",
       "    <tr>\n",
       "      <th>3</th>\n",
       "      <td>23</td>\n",
       "      <td>thin</td>\n",
       "      <td>vegetarian</td>\n",
       "      <td>socially</td>\n",
       "      <td>NaN</td>\n",
       "      <td>working on college/university</td>\n",
       "      <td>i work in a library and go to school. . .</td>\n",
       "      <td>reading things written by old dead people</td>\n",
       "      <td>playing synthesizers and organizing books acco...</td>\n",
       "      <td>socially awkward but i do my best</td>\n",
       "      <td>...</td>\n",
       "      <td>berkeley, california</td>\n",
       "      <td>doesn&amp;rsquo;t want kids</td>\n",
       "      <td>straight</td>\n",
       "      <td>likes cats</td>\n",
       "      <td>NaN</td>\n",
       "      <td>m</td>\n",
       "      <td>pisces</td>\n",
       "      <td>no</td>\n",
       "      <td>english, german (poorly)</td>\n",
       "      <td>single</td>\n",
       "    </tr>\n",
       "    <tr>\n",
       "      <th>4</th>\n",
       "      <td>29</td>\n",
       "      <td>athletic</td>\n",
       "      <td>NaN</td>\n",
       "      <td>socially</td>\n",
       "      <td>never</td>\n",
       "      <td>graduated from college/university</td>\n",
       "      <td>hey how's it going? currently vague on the pro...</td>\n",
       "      <td>work work work work + play</td>\n",
       "      <td>creating imagery to look at:&lt;br /&gt;\\nhttp://bag...</td>\n",
       "      <td>i smile a lot and my inquisitive nature</td>\n",
       "      <td>...</td>\n",
       "      <td>san francisco, california</td>\n",
       "      <td>NaN</td>\n",
       "      <td>straight</td>\n",
       "      <td>likes dogs and likes cats</td>\n",
       "      <td>NaN</td>\n",
       "      <td>m</td>\n",
       "      <td>aquarius</td>\n",
       "      <td>no</td>\n",
       "      <td>english</td>\n",
       "      <td>single</td>\n",
       "    </tr>\n",
       "  </tbody>\n",
       "</table>\n",
       "<p>5 rows × 31 columns</p>\n",
       "</div>"
      ],
      "text/plain": [
       "   age       body_type               diet    drinks      drugs  \\\n",
       "0   22  a little extra  strictly anything  socially      never   \n",
       "1   35         average       mostly other     often  sometimes   \n",
       "2   38            thin           anything  socially        NaN   \n",
       "3   23            thin         vegetarian  socially        NaN   \n",
       "4   29        athletic                NaN  socially      never   \n",
       "\n",
       "                           education  \\\n",
       "0      working on college/university   \n",
       "1              working on space camp   \n",
       "2     graduated from masters program   \n",
       "3      working on college/university   \n",
       "4  graduated from college/university   \n",
       "\n",
       "                                              essay0  \\\n",
       "0  about me:<br />\\n<br />\\ni would love to think...   \n",
       "1  i am a chef: this is what that means.<br />\\n1...   \n",
       "2  i'm not ashamed of much, but writing public te...   \n",
       "3          i work in a library and go to school. . .   \n",
       "4  hey how's it going? currently vague on the pro...   \n",
       "\n",
       "                                              essay1  \\\n",
       "0  currently working as an international agent fo...   \n",
       "1  dedicating everyday to being an unbelievable b...   \n",
       "2  i make nerdy software for musicians, artists, ...   \n",
       "3          reading things written by old dead people   \n",
       "4                         work work work work + play   \n",
       "\n",
       "                                              essay2  \\\n",
       "0  making people laugh.<br />\\nranting about a go...   \n",
       "1  being silly. having ridiculous amonts of fun w...   \n",
       "2  improvising in different contexts. alternating...   \n",
       "3  playing synthesizers and organizing books acco...   \n",
       "4  creating imagery to look at:<br />\\nhttp://bag...   \n",
       "\n",
       "                                              essay3  ...  \\\n",
       "0  the way i look. i am a six foot half asian, ha...  ...   \n",
       "1                                                NaN  ...   \n",
       "2  my large jaw and large glasses are the physica...  ...   \n",
       "3                  socially awkward but i do my best  ...   \n",
       "4            i smile a lot and my inquisitive nature  ...   \n",
       "\n",
       "                          location  \\\n",
       "0  south san francisco, california   \n",
       "1              oakland, california   \n",
       "2        san francisco, california   \n",
       "3             berkeley, california   \n",
       "4        san francisco, california   \n",
       "\n",
       "                                      offspring orientation  \\\n",
       "0  doesn&rsquo;t have kids, but might want them    straight   \n",
       "1  doesn&rsquo;t have kids, but might want them    straight   \n",
       "2                                           NaN    straight   \n",
       "3                       doesn&rsquo;t want kids    straight   \n",
       "4                                           NaN    straight   \n",
       "\n",
       "                        pets                                  religion sex  \\\n",
       "0  likes dogs and likes cats     agnosticism and very serious about it   m   \n",
       "1  likes dogs and likes cats  agnosticism but not too serious about it   m   \n",
       "2                   has cats                                       NaN   m   \n",
       "3                 likes cats                                       NaN   m   \n",
       "4  likes dogs and likes cats                                       NaN   m   \n",
       "\n",
       "                                 sign     smokes  \\\n",
       "0                              gemini  sometimes   \n",
       "1                              cancer         no   \n",
       "2  pisces but it doesn&rsquo;t matter         no   \n",
       "3                              pisces         no   \n",
       "4                            aquarius         no   \n",
       "\n",
       "                                              speaks     status  \n",
       "0                                            english     single  \n",
       "1  english (fluently), spanish (poorly), french (...     single  \n",
       "2                               english, french, c++  available  \n",
       "3                           english, german (poorly)     single  \n",
       "4                                            english     single  \n",
       "\n",
       "[5 rows x 31 columns]"
      ]
     },
     "execution_count": 3,
     "metadata": {},
     "output_type": "execute_result"
    }
   ],
   "source": [
    "df.head()"
   ]
  },
  {
   "cell_type": "code",
   "execution_count": 4,
   "metadata": {},
   "outputs": [
    {
     "data": {
      "text/plain": [
       "(59946, 31)"
      ]
     },
     "execution_count": 4,
     "metadata": {},
     "output_type": "execute_result"
    }
   ],
   "source": [
    "df.shape"
   ]
  },
  {
   "cell_type": "code",
   "execution_count": 5,
   "metadata": {},
   "outputs": [
    {
     "data": {
      "text/plain": [
       "Index(['age', 'body_type', 'diet', 'drinks', 'drugs', 'education', 'essay0',\n",
       "       'essay1', 'essay2', 'essay3', 'essay4', 'essay5', 'essay6', 'essay7',\n",
       "       'essay8', 'essay9', 'ethnicity', 'height', 'income', 'job',\n",
       "       'last_online', 'location', 'offspring', 'orientation', 'pets',\n",
       "       'religion', 'sex', 'sign', 'smokes', 'speaks', 'status'],\n",
       "      dtype='object')"
      ]
     },
     "execution_count": 5,
     "metadata": {},
     "output_type": "execute_result"
    }
   ],
   "source": [
    "df.columns"
   ]
  },
  {
   "cell_type": "code",
   "execution_count": 6,
   "metadata": {},
   "outputs": [
    {
     "data": {
      "text/html": [
       "<div>\n",
       "<style scoped>\n",
       "    .dataframe tbody tr th:only-of-type {\n",
       "        vertical-align: middle;\n",
       "    }\n",
       "\n",
       "    .dataframe tbody tr th {\n",
       "        vertical-align: top;\n",
       "    }\n",
       "\n",
       "    .dataframe thead th {\n",
       "        text-align: right;\n",
       "    }\n",
       "</style>\n",
       "<table border=\"1\" class=\"dataframe\">\n",
       "  <thead>\n",
       "    <tr style=\"text-align: right;\">\n",
       "      <th></th>\n",
       "      <th>age</th>\n",
       "      <th>height</th>\n",
       "      <th>income</th>\n",
       "    </tr>\n",
       "  </thead>\n",
       "  <tbody>\n",
       "    <tr>\n",
       "      <th>count</th>\n",
       "      <td>59946.000000</td>\n",
       "      <td>59943.000000</td>\n",
       "      <td>59946.000000</td>\n",
       "    </tr>\n",
       "    <tr>\n",
       "      <th>mean</th>\n",
       "      <td>32.340290</td>\n",
       "      <td>68.295281</td>\n",
       "      <td>20033.222534</td>\n",
       "    </tr>\n",
       "    <tr>\n",
       "      <th>std</th>\n",
       "      <td>9.452779</td>\n",
       "      <td>3.994803</td>\n",
       "      <td>97346.192104</td>\n",
       "    </tr>\n",
       "    <tr>\n",
       "      <th>min</th>\n",
       "      <td>18.000000</td>\n",
       "      <td>1.000000</td>\n",
       "      <td>-1.000000</td>\n",
       "    </tr>\n",
       "    <tr>\n",
       "      <th>25%</th>\n",
       "      <td>26.000000</td>\n",
       "      <td>66.000000</td>\n",
       "      <td>-1.000000</td>\n",
       "    </tr>\n",
       "    <tr>\n",
       "      <th>50%</th>\n",
       "      <td>30.000000</td>\n",
       "      <td>68.000000</td>\n",
       "      <td>-1.000000</td>\n",
       "    </tr>\n",
       "    <tr>\n",
       "      <th>75%</th>\n",
       "      <td>37.000000</td>\n",
       "      <td>71.000000</td>\n",
       "      <td>-1.000000</td>\n",
       "    </tr>\n",
       "    <tr>\n",
       "      <th>max</th>\n",
       "      <td>110.000000</td>\n",
       "      <td>95.000000</td>\n",
       "      <td>1000000.000000</td>\n",
       "    </tr>\n",
       "  </tbody>\n",
       "</table>\n",
       "</div>"
      ],
      "text/plain": [
       "                age        height          income\n",
       "count  59946.000000  59943.000000    59946.000000\n",
       "mean      32.340290     68.295281    20033.222534\n",
       "std        9.452779      3.994803    97346.192104\n",
       "min       18.000000      1.000000       -1.000000\n",
       "25%       26.000000     66.000000       -1.000000\n",
       "50%       30.000000     68.000000       -1.000000\n",
       "75%       37.000000     71.000000       -1.000000\n",
       "max      110.000000     95.000000  1000000.000000"
      ]
     },
     "execution_count": 6,
     "metadata": {},
     "output_type": "execute_result"
    }
   ],
   "source": [
    "# Numerical data columns\n",
    "df.describe()"
   ]
  },
  {
   "cell_type": "code",
   "execution_count": 7,
   "metadata": {},
   "outputs": [
    {
     "data": {
      "text/html": [
       "<div>\n",
       "<style scoped>\n",
       "    .dataframe tbody tr th:only-of-type {\n",
       "        vertical-align: middle;\n",
       "    }\n",
       "\n",
       "    .dataframe tbody tr th {\n",
       "        vertical-align: top;\n",
       "    }\n",
       "\n",
       "    .dataframe thead th {\n",
       "        text-align: right;\n",
       "    }\n",
       "</style>\n",
       "<table border=\"1\" class=\"dataframe\">\n",
       "  <thead>\n",
       "    <tr style=\"text-align: right;\">\n",
       "      <th></th>\n",
       "      <th>age</th>\n",
       "      <th>height</th>\n",
       "      <th>income</th>\n",
       "    </tr>\n",
       "  </thead>\n",
       "  <tbody>\n",
       "    <tr>\n",
       "      <th>age</th>\n",
       "      <td>1.000000</td>\n",
       "      <td>-0.022262</td>\n",
       "      <td>-0.001004</td>\n",
       "    </tr>\n",
       "    <tr>\n",
       "      <th>height</th>\n",
       "      <td>-0.022262</td>\n",
       "      <td>1.000000</td>\n",
       "      <td>0.065049</td>\n",
       "    </tr>\n",
       "    <tr>\n",
       "      <th>income</th>\n",
       "      <td>-0.001004</td>\n",
       "      <td>0.065049</td>\n",
       "      <td>1.000000</td>\n",
       "    </tr>\n",
       "  </tbody>\n",
       "</table>\n",
       "</div>"
      ],
      "text/plain": [
       "             age    height    income\n",
       "age     1.000000 -0.022262 -0.001004\n",
       "height -0.022262  1.000000  0.065049\n",
       "income -0.001004  0.065049  1.000000"
      ]
     },
     "execution_count": 7,
     "metadata": {},
     "output_type": "execute_result"
    }
   ],
   "source": [
    "# not many, and not much to work with\n",
    "df.corr()"
   ]
  },
  {
   "cell_type": "markdown",
   "metadata": {},
   "source": [
    "### view some categorical data"
   ]
  },
  {
   "cell_type": "code",
   "execution_count": 8,
   "metadata": {},
   "outputs": [
    {
     "data": {
      "text/plain": [
       "likes dogs and likes cats          14814\n",
       "likes dogs                          7224\n",
       "likes dogs and has cats             4313\n",
       "has dogs                            4134\n",
       "has dogs and likes cats             2333\n",
       "likes dogs and dislikes cats        2029\n",
       "has dogs and has cats               1474\n",
       "has cats                            1406\n",
       "likes cats                          1063\n",
       "has dogs and dislikes cats           552\n",
       "dislikes dogs and likes cats         240\n",
       "dislikes dogs and dislikes cats      196\n",
       "dislikes cats                        122\n",
       "dislikes dogs and has cats            81\n",
       "dislikes dogs                         44\n",
       "Name: pets, dtype: int64"
      ]
     },
     "execution_count": 8,
     "metadata": {},
     "output_type": "execute_result"
    }
   ],
   "source": [
    "# pets\n",
    "df.pets.value_counts()"
   ]
  },
  {
   "cell_type": "code",
   "execution_count": 9,
   "metadata": {},
   "outputs": [
    {
     "data": {
      "text/plain": [
       "average           14652\n",
       "fit               12711\n",
       "athletic          11819\n",
       "thin               4711\n",
       "curvy              3924\n",
       "a little extra     2629\n",
       "skinny             1777\n",
       "full figured       1009\n",
       "overweight          444\n",
       "jacked              421\n",
       "used up             355\n",
       "rather not say      198\n",
       "Name: body_type, dtype: int64"
      ]
     },
     "execution_count": 9,
     "metadata": {},
     "output_type": "execute_result"
    }
   ],
   "source": [
    "# body_type\n",
    "df.body_type.value_counts()"
   ]
  },
  {
   "cell_type": "code",
   "execution_count": 10,
   "metadata": {},
   "outputs": [
    {
     "data": {
      "text/html": [
       "<div>\n",
       "<style scoped>\n",
       "    .dataframe tbody tr th:only-of-type {\n",
       "        vertical-align: middle;\n",
       "    }\n",
       "\n",
       "    .dataframe tbody tr th {\n",
       "        vertical-align: top;\n",
       "    }\n",
       "\n",
       "    .dataframe thead th {\n",
       "        text-align: right;\n",
       "    }\n",
       "</style>\n",
       "<table border=\"1\" class=\"dataframe\">\n",
       "  <thead>\n",
       "    <tr style=\"text-align: right;\">\n",
       "      <th></th>\n",
       "      <th>essay0</th>\n",
       "      <th>essay1</th>\n",
       "      <th>essay2</th>\n",
       "    </tr>\n",
       "  </thead>\n",
       "  <tbody>\n",
       "    <tr>\n",
       "      <th>2530</th>\n",
       "      <td>here it comes:&lt;br /&gt;\\n- i like writing things ...</td>\n",
       "      <td>-enjoying it.&lt;br /&gt;\\n-while working hard on we...</td>\n",
       "      <td>being considerate, my work, balancing my life,...</td>\n",
       "    </tr>\n",
       "    <tr>\n",
       "      <th>53836</th>\n",
       "      <td>i am a fun, hilarious, witty, sarcastic, easy-...</td>\n",
       "      <td>i just moved to the city with my best friend a...</td>\n",
       "      <td>i'm really good at performing. i sing and danc...</td>\n",
       "    </tr>\n",
       "    <tr>\n",
       "      <th>1262</th>\n",
       "      <td>grew up in east texas and speaks southern yall...</td>\n",
       "      <td>i speak to think and generally say what's on m...</td>\n",
       "      <td>watching tv while i shower, knocking over tabl...</td>\n",
       "    </tr>\n",
       "    <tr>\n",
       "      <th>29120</th>\n",
       "      <td>i hate describing myself. i can never seem to ...</td>\n",
       "      <td>i graduated cosmetology school in march, and f...</td>\n",
       "      <td>fixing things [problems, freezers, etc.], edit...</td>\n",
       "    </tr>\n",
       "    <tr>\n",
       "      <th>48713</th>\n",
       "      <td>they say that i should write about myself, so ...</td>\n",
       "      <td>i'm a handsome, intelligent gentleman with a f...</td>\n",
       "      <td>NaN</td>\n",
       "    </tr>\n",
       "  </tbody>\n",
       "</table>\n",
       "</div>"
      ],
      "text/plain": [
       "                                                  essay0  \\\n",
       "2530   here it comes:<br />\\n- i like writing things ...   \n",
       "53836  i am a fun, hilarious, witty, sarcastic, easy-...   \n",
       "1262   grew up in east texas and speaks southern yall...   \n",
       "29120  i hate describing myself. i can never seem to ...   \n",
       "48713  they say that i should write about myself, so ...   \n",
       "\n",
       "                                                  essay1  \\\n",
       "2530   -enjoying it.<br />\\n-while working hard on we...   \n",
       "53836  i just moved to the city with my best friend a...   \n",
       "1262   i speak to think and generally say what's on m...   \n",
       "29120  i graduated cosmetology school in march, and f...   \n",
       "48713  i'm a handsome, intelligent gentleman with a f...   \n",
       "\n",
       "                                                  essay2  \n",
       "2530   being considerate, my work, balancing my life,...  \n",
       "53836  i'm really good at performing. i sing and danc...  \n",
       "1262   watching tv while i shower, knocking over tabl...  \n",
       "29120  fixing things [problems, freezers, etc.], edit...  \n",
       "48713                                                NaN  "
      ]
     },
     "execution_count": 10,
     "metadata": {},
     "output_type": "execute_result"
    }
   ],
   "source": [
    "# sample some essay responses\n",
    "df[[\"essay0\", \"essay1\", \"essay2\"]].sample(5)"
   ]
  },
  {
   "cell_type": "code",
   "execution_count": 11,
   "metadata": {},
   "outputs": [
    {
     "data": {
      "text/html": [
       "<div>\n",
       "<style scoped>\n",
       "    .dataframe tbody tr th:only-of-type {\n",
       "        vertical-align: middle;\n",
       "    }\n",
       "\n",
       "    .dataframe tbody tr th {\n",
       "        vertical-align: top;\n",
       "    }\n",
       "\n",
       "    .dataframe thead th {\n",
       "        text-align: right;\n",
       "    }\n",
       "</style>\n",
       "<table border=\"1\" class=\"dataframe\">\n",
       "  <thead>\n",
       "    <tr style=\"text-align: right;\">\n",
       "      <th></th>\n",
       "      <th>essay7</th>\n",
       "      <th>essay8</th>\n",
       "      <th>essay9</th>\n",
       "    </tr>\n",
       "  </thead>\n",
       "  <tbody>\n",
       "    <tr>\n",
       "      <th>47006</th>\n",
       "      <td>out with friends finding new restaurants, atte...</td>\n",
       "      <td>just ask me...</td>\n",
       "      <td>we rank as a high percentile or if you're real...</td>\n",
       "    </tr>\n",
       "    <tr>\n",
       "      <th>29591</th>\n",
       "      <td>NaN</td>\n",
       "      <td>NaN</td>\n",
       "      <td>NaN</td>\n",
       "    </tr>\n",
       "    <tr>\n",
       "      <th>48734</th>\n",
       "      <td>cruising. chirp chirp.</td>\n",
       "      <td>i take girls on 'fun dates' because i can't af...</td>\n",
       "      <td>you love life and don't take anything too seri...</td>\n",
       "    </tr>\n",
       "    <tr>\n",
       "      <th>35622</th>\n",
       "      <td>...kickin' it ... or staying home; one of the ...</td>\n",
       "      <td>in the morning, sometimes i pee sitting down.</td>\n",
       "      <td>...you have any questions.</td>\n",
       "    </tr>\n",
       "    <tr>\n",
       "      <th>19182</th>\n",
       "      <td>NaN</td>\n",
       "      <td>NaN</td>\n",
       "      <td>|you are fairly independent.&lt;br /&gt;\\n|you enjoy...</td>\n",
       "    </tr>\n",
       "  </tbody>\n",
       "</table>\n",
       "</div>"
      ],
      "text/plain": [
       "                                                  essay7  \\\n",
       "47006  out with friends finding new restaurants, atte...   \n",
       "29591                                                NaN   \n",
       "48734                             cruising. chirp chirp.   \n",
       "35622  ...kickin' it ... or staying home; one of the ...   \n",
       "19182                                                NaN   \n",
       "\n",
       "                                                  essay8  \\\n",
       "47006                                     just ask me...   \n",
       "29591                                                NaN   \n",
       "48734  i take girls on 'fun dates' because i can't af...   \n",
       "35622      in the morning, sometimes i pee sitting down.   \n",
       "19182                                                NaN   \n",
       "\n",
       "                                                  essay9  \n",
       "47006  we rank as a high percentile or if you're real...  \n",
       "29591                                                NaN  \n",
       "48734  you love life and don't take anything too seri...  \n",
       "35622                         ...you have any questions.  \n",
       "19182  |you are fairly independent.<br />\\n|you enjoy...  "
      ]
     },
     "execution_count": 11,
     "metadata": {},
     "output_type": "execute_result"
    }
   ],
   "source": [
    "# sample some more essay responses\n",
    "df[[\"essay7\", \"essay8\", \"essay9\"]].sample(5)"
   ]
  },
  {
   "cell_type": "markdown",
   "metadata": {},
   "source": [
    "# 3. Visualize some of the Data"
   ]
  },
  {
   "cell_type": "code",
   "execution_count": 12,
   "metadata": {},
   "outputs": [
    {
     "data": {
      "text/plain": [
       "count    59946.000000\n",
       "mean        32.340290\n",
       "std          9.452779\n",
       "min         18.000000\n",
       "25%         26.000000\n",
       "50%         30.000000\n",
       "75%         37.000000\n",
       "max        110.000000\n",
       "Name: age, dtype: float64"
      ]
     },
     "execution_count": 12,
     "metadata": {},
     "output_type": "execute_result"
    }
   ],
   "source": [
    "df.age.describe()"
   ]
  },
  {
   "cell_type": "code",
   "execution_count": 13,
   "metadata": {},
   "outputs": [
    {
     "data": {
      "image/png": "[encoded data removed]",
      "text/plain": [
       "<Figure size 720x432 with 1 Axes>"
      ]
     },
     "metadata": {},
     "output_type": "display_data"
    }
   ],
   "source": [
    "# Age Distribution\n",
    "df.age.plot(kind=\"hist\", xlim=(15, 75), figsize=(10, 6), color=\"tab:cyan\")\n",
    "plt.text(45, 17500, \"54% are between 23 and 32\", fontsize=18)\n",
    "plt.title(\"Age Distribution\", fontsize=20)\n",
    "plt.xlabel(\"Age\")\n",
    "plt.savefig(\"age_dist.png\")\n",
    "plt.show()"
   ]
  },
  {
   "cell_type": "code",
   "execution_count": 14,
   "metadata": {},
   "outputs": [
    {
     "data": {
      "text/plain": [
       "-1          48442\n",
       " 20000       2952\n",
       " 30000       1048\n",
       " 40000       1005\n",
       " 50000        975\n",
       " 60000        736\n",
       " 70000        707\n",
       " 80000       1111\n",
       " 100000      1621\n",
       " 150000       631\n",
       " 250000       149\n",
       " 500000        48\n",
       " 1000000      521\n",
       "Name: income, dtype: int64"
      ]
     },
     "execution_count": 14,
     "metadata": {},
     "output_type": "execute_result"
    }
   ],
   "source": [
    "df.income.value_counts().sort_index()"
   ]
  },
  {
   "cell_type": "code",
   "execution_count": 15,
   "metadata": {},
   "outputs": [
    {
     "data": {
      "image/png": "[encoded data removed]",
      "text/plain": [
       "<Figure size 720x504 with 1 Axes>"
      ]
     },
     "metadata": {},
     "output_type": "display_data"
    }
   ],
   "source": [
    "plt.figure(figsize=(10, 7))\n",
    "df.income.value_counts().sort_index()[1:].plot(kind=\"bar\", color=\"tab:green\")\n",
    "plt.title(\"Income Responses\", fontsize=20)\n",
    "plt.text(1, 2250, \"81% reported as -1 or 'No Answer'\", fontsize=18)\n",
    "plt.xlabel(\"Income\")\n",
    "plt.ylabel(\"Number of Responses\")\n",
    "plt.savefig(\"income_bar.png\")\n",
    "plt.show()"
   ]
  },
  {
   "cell_type": "code",
   "execution_count": 16,
   "metadata": {},
   "outputs": [
    {
     "data": {
      "image/png": "[encoded data removed]",
      "text/plain": [
       "<Figure size 576x576 with 1 Axes>"
      ]
     },
     "metadata": {},
     "output_type": "display_data"
    }
   ],
   "source": [
    "# Top 10 responses in education\n",
    "df.education.value_counts()[0:10].plot(kind=\"pie\", figsize=(8, 8))\n",
    "plt.title(\"Top 10 Education Responses\", fontsize=18)\n",
    "plt.savefig(\"education_pie.png\")\n",
    "plt.show()"
   ]
  },
  {
   "cell_type": "code",
   "execution_count": 17,
   "metadata": {},
   "outputs": [
    {
     "data": {
      "image/png": "[encoded data removed]",
      "text/plain": [
       "<Figure size 720x432 with 1 Axes>"
      ]
     },
     "metadata": {},
     "output_type": "display_data"
    }
   ],
   "source": [
    "# Gender\n",
    "df.sex.value_counts().plot(kind=\"bar\", color=[\"tab:blue\", \"tab:pink\"], figsize=(10,6))\n",
    "plt.title(\"Users by Gender\", fontsize=18)\n",
    "plt.ylabel(\"Users\", fontsize=12)\n",
    "plt.xticks(ticks=[0,1], labels=[\"Male\", \"Female\"], fontsize=12, rotation=0)\n",
    "plt.show()"
   ]
  },
  {
   "cell_type": "markdown",
   "metadata": {},
   "source": [
    "# 4. Formulate a Question\n",
    "\n",
    "## 4A. Classification Question: Can we predict *gender* based on the following features:\n",
    "\n",
    "1. Whether a user prefers cats or dogs from the `pets` column\n",
    "2. A user's `body_type` and `height`\n",
    "3. How much a user `drinks` or `smokes`\n",
    "\n",
    "## 4B. Regression Question: Can we predict *height* based on the following features:\n",
    "\n",
    "1. A user's `diet`\n",
    "2. Their `drug` use\n",
    "3. Their gender, or `sex`"
   ]
  },
  {
   "cell_type": "markdown",
   "metadata": {},
   "source": [
    "# 5. Augment your Data\n",
    "\n",
    "## 5A. Classification model: Clean and map data"
   ]
  },
  {
   "cell_type": "code",
   "execution_count": 18,
   "metadata": {},
   "outputs": [
    {
     "data": {
      "text/plain": [
       "(34422, 31)"
      ]
     },
     "execution_count": 18,
     "metadata": {},
     "output_type": "execute_result"
    }
   ],
   "source": [
    "feature_cols = [\"pets\", \"body_type\", \"height\", \"drinks\", \"smokes\"]\n",
    "df_class = df.dropna(subset=feature_cols, axis=0)\n",
    "df_class.shape"
   ]
  },
  {
   "cell_type": "code",
   "execution_count": 19,
   "metadata": {},
   "outputs": [
    {
     "data": {
      "text/plain": [
       "(34422, 6)"
      ]
     },
     "execution_count": 19,
     "metadata": {},
     "output_type": "execute_result"
    }
   ],
   "source": [
    "# Drop non-needed columns\n",
    "df_class = df_class.loc[:, feature_cols+[\"sex\"]]\n",
    "df_class.shape"
   ]
  },
  {
   "cell_type": "code",
   "execution_count": 20,
   "metadata": {},
   "outputs": [],
   "source": [
    "# Map response column: \"sex\"\n",
    "# Create new column: sex_code\n",
    "\n",
    "df_class[\"sex_code\"] = df_class.loc[:, \"sex\"].apply(lambda x: 1 if x == \"m\" else 0)"
   ]
  },
  {
   "cell_type": "code",
   "execution_count": 21,
   "metadata": {},
   "outputs": [],
   "source": [
    "# Map \"pets\"\n",
    "# Create & map feature column: pets_code\n",
    "\n",
    "pets_mapping = {\n",
    "    \"likes dogs and likes cats\": 1,\n",
    "    \"likes dogs\": 0,\n",
    "    \"likes dogs and has cats\": 2,\n",
    "    \"has dogs\": 0,\n",
    "    \"has dogs and likes cats\": 0,\n",
    "    \"likes dogs and dislikes cats\": 0,\n",
    "    \"has dogs and has cats\": 1,\n",
    "    \"has cats\": 2,\n",
    "    \"likes cats\": 2,\n",
    "    \"has dogs and dislikes cats\": 0,\n",
    "    \"dislikes dogs and likes cats\": 2,\n",
    "    \"dislikes dogs and dislikes cats\": -1,\n",
    "    \"dislikes cats\": -1,\n",
    "    \"dislikes dogs and has cats\": 2,\n",
    "    \"dislikes dogs\": -1}\n",
    "df_class[\"pets_code\"] = df_class.pets.map(pets_mapping)"
   ]
  },
  {
   "cell_type": "code",
   "execution_count": 22,
   "metadata": {},
   "outputs": [],
   "source": [
    "# Map \"body_type\"\n",
    "# Create & map feature column: body_type_code\n",
    "\n",
    "bt_mapping = {\n",
    "    \"average\": 0,\n",
    "    \"fit\": 1, \n",
    "    \"athletic\": 1,\n",
    "    \"thin\": -1,\n",
    "    \"curvy\": 2,\n",
    "    \"a little extra\": 2,\n",
    "    \"skinny\": -1,\n",
    "    \"full figured\": 2,\n",
    "    \"overweight\": 3,\n",
    "    \"jacked\": 1,\n",
    "    \"used up\": -1,\n",
    "    \"rather not say\": 0}\n",
    "df_class[\"body_type_code\"] = df_class.body_type.map(bt_mapping)"
   ]
  },
  {
   "cell_type": "code",
   "execution_count": 23,
   "metadata": {},
   "outputs": [],
   "source": [
    "# Map \"drinks\"\n",
    "# Create & map feature column: drinks_code\n",
    "\n",
    "drinks_mapping = {\n",
    "    \"socially\": 0,\n",
    "    \"rarely\": 1,\n",
    "    \"often\": 2,\n",
    "    \"not at all\": -1,\n",
    "    \"very often\": 3,\n",
    "    \"desperately\": 3}\n",
    "df_class[\"drinks_code\"] = df_class.drinks.map(drinks_mapping)"
   ]
  },
  {
   "cell_type": "code",
   "execution_count": 24,
   "metadata": {},
   "outputs": [],
   "source": [
    "# Map \"smokes\"\n",
    "# Create & map feature column: smokes_code\n",
    "\n",
    "smokes_mapping = {\n",
    "    \"no\": 0,\n",
    "    \"sometimes\": 1,\n",
    "    \"when drinking\": 1,\n",
    "    \"yes\": 2,\n",
    "    \"trying to quit\": 2,}\n",
    "df_class[\"smokes_code\"] = df_class.smokes.map(smokes_mapping)"
   ]
  },
  {
   "cell_type": "code",
   "execution_count": 25,
   "metadata": {},
   "outputs": [
    {
     "data": {
      "text/html": [
       "<div>\n",
       "<style scoped>\n",
       "    .dataframe tbody tr th:only-of-type {\n",
       "        vertical-align: middle;\n",
       "    }\n",
       "\n",
       "    .dataframe tbody tr th {\n",
       "        vertical-align: top;\n",
       "    }\n",
       "\n",
       "    .dataframe thead th {\n",
       "        text-align: right;\n",
       "    }\n",
       "</style>\n",
       "<table border=\"1\" class=\"dataframe\">\n",
       "  <thead>\n",
       "    <tr style=\"text-align: right;\">\n",
       "      <th></th>\n",
       "      <th>pets</th>\n",
       "      <th>body_type</th>\n",
       "      <th>height</th>\n",
       "      <th>drinks</th>\n",
       "      <th>smokes</th>\n",
       "      <th>sex</th>\n",
       "      <th>sex_code</th>\n",
       "      <th>pets_code</th>\n",
       "      <th>body_type_code</th>\n",
       "      <th>drinks_code</th>\n",
       "      <th>smokes_code</th>\n",
       "    </tr>\n",
       "  </thead>\n",
       "  <tbody>\n",
       "    <tr>\n",
       "      <th>38235</th>\n",
       "      <td>likes dogs and likes cats</td>\n",
       "      <td>curvy</td>\n",
       "      <td>60.0</td>\n",
       "      <td>socially</td>\n",
       "      <td>no</td>\n",
       "      <td>f</td>\n",
       "      <td>0</td>\n",
       "      <td>1</td>\n",
       "      <td>2</td>\n",
       "      <td>0</td>\n",
       "      <td>0</td>\n",
       "    </tr>\n",
       "    <tr>\n",
       "      <th>56177</th>\n",
       "      <td>likes dogs</td>\n",
       "      <td>thin</td>\n",
       "      <td>62.0</td>\n",
       "      <td>socially</td>\n",
       "      <td>no</td>\n",
       "      <td>f</td>\n",
       "      <td>0</td>\n",
       "      <td>0</td>\n",
       "      <td>-1</td>\n",
       "      <td>0</td>\n",
       "      <td>0</td>\n",
       "    </tr>\n",
       "    <tr>\n",
       "      <th>55224</th>\n",
       "      <td>likes dogs</td>\n",
       "      <td>fit</td>\n",
       "      <td>68.0</td>\n",
       "      <td>socially</td>\n",
       "      <td>no</td>\n",
       "      <td>m</td>\n",
       "      <td>1</td>\n",
       "      <td>0</td>\n",
       "      <td>1</td>\n",
       "      <td>0</td>\n",
       "      <td>0</td>\n",
       "    </tr>\n",
       "    <tr>\n",
       "      <th>27481</th>\n",
       "      <td>likes dogs and likes cats</td>\n",
       "      <td>skinny</td>\n",
       "      <td>70.0</td>\n",
       "      <td>often</td>\n",
       "      <td>when drinking</td>\n",
       "      <td>m</td>\n",
       "      <td>1</td>\n",
       "      <td>1</td>\n",
       "      <td>-1</td>\n",
       "      <td>2</td>\n",
       "      <td>1</td>\n",
       "    </tr>\n",
       "    <tr>\n",
       "      <th>59485</th>\n",
       "      <td>has cats</td>\n",
       "      <td>average</td>\n",
       "      <td>77.0</td>\n",
       "      <td>often</td>\n",
       "      <td>yes</td>\n",
       "      <td>f</td>\n",
       "      <td>0</td>\n",
       "      <td>2</td>\n",
       "      <td>0</td>\n",
       "      <td>2</td>\n",
       "      <td>2</td>\n",
       "    </tr>\n",
       "  </tbody>\n",
       "</table>\n",
       "</div>"
      ],
      "text/plain": [
       "                            pets body_type  height    drinks         smokes  \\\n",
       "38235  likes dogs and likes cats     curvy    60.0  socially             no   \n",
       "56177                 likes dogs      thin    62.0  socially             no   \n",
       "55224                 likes dogs       fit    68.0  socially             no   \n",
       "27481  likes dogs and likes cats    skinny    70.0     often  when drinking   \n",
       "59485                   has cats   average    77.0     often            yes   \n",
       "\n",
       "      sex  sex_code  pets_code  body_type_code  drinks_code  smokes_code  \n",
       "38235   f         0          1               2            0            0  \n",
       "56177   f         0          0              -1            0            0  \n",
       "55224   m         1          0               1            0            0  \n",
       "27481   m         1          1              -1            2            1  \n",
       "59485   f         0          2               0            2            2  "
      ]
     },
     "execution_count": 25,
     "metadata": {},
     "output_type": "execute_result"
    }
   ],
   "source": [
    "# Sample model dataframe. Looks good!\n",
    "df_class.sample(5, random_state=40)"
   ]
  },
  {
   "cell_type": "code",
   "execution_count": 26,
   "metadata": {},
   "outputs": [
    {
     "data": {
      "text/plain": [
       "(34422, 11)"
      ]
     },
     "execution_count": 26,
     "metadata": {},
     "output_type": "execute_result"
    }
   ],
   "source": [
    "df_class.shape"
   ]
  },
  {
   "cell_type": "markdown",
   "metadata": {},
   "source": [
    "## 5B. Regression model: Clean and map data"
   ]
  },
  {
   "cell_type": "code",
   "execution_count": 27,
   "metadata": {},
   "outputs": [
    {
     "data": {
      "text/plain": [
       "(26067, 31)"
      ]
     },
     "execution_count": 27,
     "metadata": {},
     "output_type": "execute_result"
    }
   ],
   "source": [
    "feature_cols = [\"diet\", \"drinks\", \"drugs\", \"smokes\", \"sex\"]\n",
    "df.dropna(subset=feature_cols, axis=0, inplace=True)\n",
    "df.shape"
   ]
  },
  {
   "cell_type": "code",
   "execution_count": 28,
   "metadata": {},
   "outputs": [
    {
     "data": {
      "text/plain": [
       "(26067, 6)"
      ]
     },
     "execution_count": 28,
     "metadata": {},
     "output_type": "execute_result"
    }
   ],
   "source": [
    "df_reg = df.loc[:, feature_cols+[\"height\"]]\n",
    "df_reg.shape"
   ]
  },
  {
   "cell_type": "code",
   "execution_count": 29,
   "metadata": {},
   "outputs": [
    {
     "data": {
      "text/html": [
       "<div>\n",
       "<style scoped>\n",
       "    .dataframe tbody tr th:only-of-type {\n",
       "        vertical-align: middle;\n",
       "    }\n",
       "\n",
       "    .dataframe tbody tr th {\n",
       "        vertical-align: top;\n",
       "    }\n",
       "\n",
       "    .dataframe thead th {\n",
       "        text-align: right;\n",
       "    }\n",
       "</style>\n",
       "<table border=\"1\" class=\"dataframe\">\n",
       "  <thead>\n",
       "    <tr style=\"text-align: right;\">\n",
       "      <th></th>\n",
       "      <th>diet</th>\n",
       "      <th>drinks</th>\n",
       "      <th>drugs</th>\n",
       "      <th>smokes</th>\n",
       "      <th>sex</th>\n",
       "      <th>height</th>\n",
       "    </tr>\n",
       "  </thead>\n",
       "  <tbody>\n",
       "    <tr>\n",
       "      <th>0</th>\n",
       "      <td>strictly anything</td>\n",
       "      <td>socially</td>\n",
       "      <td>never</td>\n",
       "      <td>sometimes</td>\n",
       "      <td>m</td>\n",
       "      <td>75.0</td>\n",
       "    </tr>\n",
       "    <tr>\n",
       "      <th>1</th>\n",
       "      <td>mostly other</td>\n",
       "      <td>often</td>\n",
       "      <td>sometimes</td>\n",
       "      <td>no</td>\n",
       "      <td>m</td>\n",
       "      <td>70.0</td>\n",
       "    </tr>\n",
       "    <tr>\n",
       "      <th>7</th>\n",
       "      <td>mostly anything</td>\n",
       "      <td>socially</td>\n",
       "      <td>never</td>\n",
       "      <td>no</td>\n",
       "      <td>f</td>\n",
       "      <td>65.0</td>\n",
       "    </tr>\n",
       "    <tr>\n",
       "      <th>9</th>\n",
       "      <td>mostly anything</td>\n",
       "      <td>not at all</td>\n",
       "      <td>never</td>\n",
       "      <td>no</td>\n",
       "      <td>m</td>\n",
       "      <td>65.0</td>\n",
       "    </tr>\n",
       "    <tr>\n",
       "      <th>11</th>\n",
       "      <td>mostly anything</td>\n",
       "      <td>socially</td>\n",
       "      <td>never</td>\n",
       "      <td>no</td>\n",
       "      <td>m</td>\n",
       "      <td>72.0</td>\n",
       "    </tr>\n",
       "  </tbody>\n",
       "</table>\n",
       "</div>"
      ],
      "text/plain": [
       "                 diet      drinks      drugs     smokes sex  height\n",
       "0   strictly anything    socially      never  sometimes   m    75.0\n",
       "1        mostly other       often  sometimes         no   m    70.0\n",
       "7     mostly anything    socially      never         no   f    65.0\n",
       "9     mostly anything  not at all      never         no   m    65.0\n",
       "11    mostly anything    socially      never         no   m    72.0"
      ]
     },
     "execution_count": 29,
     "metadata": {},
     "output_type": "execute_result"
    }
   ],
   "source": [
    "df_reg.head()"
   ]
  },
  {
   "cell_type": "code",
   "execution_count": 30,
   "metadata": {},
   "outputs": [],
   "source": [
    "# Create & Map response column: diet_code\n",
    "# other = 0\n",
    "# anything = 1\n",
    "# vegetarian = 2\n",
    "# vegan = 2\n",
    "# kosher = 3\n",
    "# halal = 3\n",
    "\n",
    "diet_mapping = {\n",
    "    \"anything\": 1,\n",
    "    \"halal\": 3,\n",
    "    \"kosher\": 3,\n",
    "    \"mostly anything\": 1,\n",
    "    \"mostly halal\": 3,\n",
    "    \"mostly kosher\": 3,\n",
    "    \"mostly other\": 0,\n",
    "    \"mostly vegan\": 2,\n",
    "    \"mostly vegetarian\": 2,\n",
    "    \"other\": 0,\n",
    "    \"strictly anything\": 1,\n",
    "    \"strictly halal\": 3,\n",
    "    \"strictly kosher\": 3, \n",
    "    \"strictly other\": 0,\n",
    "    \"strictly vegan\": 2,\n",
    "    \"strictly vegetarian\": 2,\n",
    "    \"vegan\": 2,\n",
    "    \"vegetarian\": 2}\n",
    "df_reg[\"diet_code\"] = df_reg.diet.map(diet_mapping)"
   ]
  },
  {
   "cell_type": "code",
   "execution_count": 31,
   "metadata": {},
   "outputs": [],
   "source": [
    "# Map \"drinks\"\n",
    "drinks_mapping = {\n",
    "    \"socially\": 1,\n",
    "    \"rarely\": 1,\n",
    "    \"often\": 2,\n",
    "    \"not at all\": 0,\n",
    "    \"very often\": 2,\n",
    "    \"desperately\": 2}\n",
    "df_reg[\"drinks_code\"] = df_reg.drinks.map(drinks_mapping)"
   ]
  },
  {
   "cell_type": "code",
   "execution_count": 32,
   "metadata": {},
   "outputs": [],
   "source": [
    "# Map \"drugs\"\n",
    "drugs_mapping = {\n",
    "    \"never\": 0,\n",
    "    \"sometimes\": 1,\n",
    "    \"often\": 2}\n",
    "df_reg[\"drugs_code\"] = df_reg.drugs.map(drugs_mapping)"
   ]
  },
  {
   "cell_type": "code",
   "execution_count": 33,
   "metadata": {},
   "outputs": [],
   "source": [
    "# Map \"smokes\"\n",
    "smokes_mapping = {\n",
    "    \"no\": 0,\n",
    "    \"sometimes\": 1,\n",
    "    \"when drinking\": 1,\n",
    "    \"yes\": 2,\n",
    "    \"trying to quit\": 2,}\n",
    "df_reg[\"smokes_code\"] = df_reg.smokes.map(smokes_mapping)"
   ]
  },
  {
   "cell_type": "code",
   "execution_count": 34,
   "metadata": {},
   "outputs": [],
   "source": [
    "# Map \"sex\"\n",
    "df_reg[\"sex_code\"] = df_reg.sex.apply(lambda x: 1 if x == 'm' else 0)"
   ]
  },
  {
   "cell_type": "code",
   "execution_count": 36,
   "metadata": {},
   "outputs": [
    {
     "data": {
      "text/html": [
       "<div>\n",
       "<style scoped>\n",
       "    .dataframe tbody tr th:only-of-type {\n",
       "        vertical-align: middle;\n",
       "    }\n",
       "\n",
       "    .dataframe tbody tr th {\n",
       "        vertical-align: top;\n",
       "    }\n",
       "\n",
       "    .dataframe thead th {\n",
       "        text-align: right;\n",
       "    }\n",
       "</style>\n",
       "<table border=\"1\" class=\"dataframe\">\n",
       "  <thead>\n",
       "    <tr style=\"text-align: right;\">\n",
       "      <th></th>\n",
       "      <th>diet</th>\n",
       "      <th>drinks</th>\n",
       "      <th>drugs</th>\n",
       "      <th>smokes</th>\n",
       "      <th>sex</th>\n",
       "      <th>height</th>\n",
       "      <th>diet_code</th>\n",
       "      <th>drinks_code</th>\n",
       "      <th>drugs_code</th>\n",
       "      <th>smokes_code</th>\n",
       "      <th>sex_code</th>\n",
       "    </tr>\n",
       "  </thead>\n",
       "  <tbody>\n",
       "    <tr>\n",
       "      <th>28848</th>\n",
       "      <td>mostly anything</td>\n",
       "      <td>socially</td>\n",
       "      <td>never</td>\n",
       "      <td>no</td>\n",
       "      <td>m</td>\n",
       "      <td>72.0</td>\n",
       "      <td>1</td>\n",
       "      <td>1</td>\n",
       "      <td>0</td>\n",
       "      <td>0</td>\n",
       "      <td>1</td>\n",
       "    </tr>\n",
       "    <tr>\n",
       "      <th>45549</th>\n",
       "      <td>anything</td>\n",
       "      <td>socially</td>\n",
       "      <td>never</td>\n",
       "      <td>no</td>\n",
       "      <td>m</td>\n",
       "      <td>75.0</td>\n",
       "      <td>1</td>\n",
       "      <td>1</td>\n",
       "      <td>0</td>\n",
       "      <td>0</td>\n",
       "      <td>1</td>\n",
       "    </tr>\n",
       "    <tr>\n",
       "      <th>53378</th>\n",
       "      <td>kosher</td>\n",
       "      <td>socially</td>\n",
       "      <td>never</td>\n",
       "      <td>no</td>\n",
       "      <td>f</td>\n",
       "      <td>65.0</td>\n",
       "      <td>3</td>\n",
       "      <td>1</td>\n",
       "      <td>0</td>\n",
       "      <td>0</td>\n",
       "      <td>0</td>\n",
       "    </tr>\n",
       "    <tr>\n",
       "      <th>31109</th>\n",
       "      <td>anything</td>\n",
       "      <td>socially</td>\n",
       "      <td>never</td>\n",
       "      <td>no</td>\n",
       "      <td>m</td>\n",
       "      <td>68.0</td>\n",
       "      <td>1</td>\n",
       "      <td>1</td>\n",
       "      <td>0</td>\n",
       "      <td>0</td>\n",
       "      <td>1</td>\n",
       "    </tr>\n",
       "    <tr>\n",
       "      <th>53849</th>\n",
       "      <td>mostly vegetarian</td>\n",
       "      <td>socially</td>\n",
       "      <td>never</td>\n",
       "      <td>no</td>\n",
       "      <td>f</td>\n",
       "      <td>67.0</td>\n",
       "      <td>2</td>\n",
       "      <td>1</td>\n",
       "      <td>0</td>\n",
       "      <td>0</td>\n",
       "      <td>0</td>\n",
       "    </tr>\n",
       "  </tbody>\n",
       "</table>\n",
       "</div>"
      ],
      "text/plain": [
       "                    diet    drinks  drugs smokes sex  height  diet_code  \\\n",
       "28848    mostly anything  socially  never     no   m    72.0          1   \n",
       "45549           anything  socially  never     no   m    75.0          1   \n",
       "53378             kosher  socially  never     no   f    65.0          3   \n",
       "31109           anything  socially  never     no   m    68.0          1   \n",
       "53849  mostly vegetarian  socially  never     no   f    67.0          2   \n",
       "\n",
       "       drinks_code  drugs_code  smokes_code  sex_code  \n",
       "28848            1           0            0         1  \n",
       "45549            1           0            0         1  \n",
       "53378            1           0            0         0  \n",
       "31109            1           0            0         1  \n",
       "53849            1           0            0         0  "
      ]
     },
     "execution_count": 36,
     "metadata": {},
     "output_type": "execute_result"
    }
   ],
   "source": [
    "# Sample model dataframe. Looks good!\n",
    "df_reg.sample(5, random_state=4)"
   ]
  },
  {
   "cell_type": "markdown",
   "metadata": {},
   "source": [
    "# 6. Normalize Your Data\n",
    "## 6A. Scale data, split into train and test sets for Classification Models"
   ]
  },
  {
   "cell_type": "code",
   "execution_count": 37,
   "metadata": {},
   "outputs": [
    {
     "name": "stdout",
     "output_type": "stream",
     "text": [
      "(34422, 5) (34422,)\n"
     ]
    }
   ],
   "source": [
    "# Create X (features) and y (response)\n",
    "X = df_class.loc[:, [\"height\", \"pets_code\", \"body_type_code\", \"drinks_code\", \"smokes_code\"]]\n",
    "y = df_class.sex_code\n",
    "print(X.shape, y.shape)"
   ]
  },
  {
   "cell_type": "code",
   "execution_count": 38,
   "metadata": {},
   "outputs": [],
   "source": [
    "# Create model training and testing sets\n",
    "from sklearn.model_selection import train_test_split\n",
    "X_train, X_test, y_train, y_test = train_test_split(X, y, random_state=1)"
   ]
  },
  {
   "cell_type": "code",
   "execution_count": 39,
   "metadata": {},
   "outputs": [],
   "source": [
    "# Scale feature data\n",
    "from sklearn.preprocessing import MinMaxScaler\n",
    "mm_scaler = MinMaxScaler()\n",
    "X_train_scaled = mm_scaler.fit_transform(X_train)\n",
    "X_test_scaled = mm_scaler.transform(X_test)"
   ]
  },
  {
   "cell_type": "markdown",
   "metadata": {},
   "source": [
    "## 6B. Split data into train and test sets for Regression Models\n",
    "### First, graph feature set to check for linearity"
   ]
  },
  {
   "cell_type": "markdown",
   "metadata": {},
   "source": [
    "`diet`, `sex` and `drugs` have some linear relationship and will be used in the model."
   ]
  },
  {
   "cell_type": "code",
   "execution_count": 40,
   "metadata": {},
   "outputs": [
    {
     "data": {
      "image/png": "[encoded data removed]",
      "text/plain": [
       "<Figure size 756x360 with 3 Axes>"
      ]
     },
     "metadata": {},
     "output_type": "display_data"
    }
   ],
   "source": [
    "# plt.figure(figsize=(14, 10))\n",
    "sns.pairplot(df_reg, x_vars=[\"diet_code\", \"drugs_code\", \"sex_code\"], y_vars=\"height\", height=5, aspect=0.7, kind='reg')\n",
    "plt.show()"
   ]
  },
  {
   "cell_type": "markdown",
   "metadata": {},
   "source": [
    "`drinks` and `smokes` have no linear relationship and will not be used in the model."
   ]
  },
  {
   "cell_type": "code",
   "execution_count": 41,
   "metadata": {},
   "outputs": [
    {
     "data": {
      "image/png": "[encoded data removed]",
      "text/plain": [
       "<Figure size 504x360 with 2 Axes>"
      ]
     },
     "metadata": {},
     "output_type": "display_data"
    }
   ],
   "source": [
    "sns.pairplot(df_reg, x_vars=[\"smokes_code\", \"drinks_code\"], y_vars=\"height\", height=5, aspect=0.7, kind='reg')\n",
    "plt.show()"
   ]
  },
  {
   "cell_type": "code",
   "execution_count": 42,
   "metadata": {},
   "outputs": [
    {
     "name": "stdout",
     "output_type": "stream",
     "text": [
      "(26067, 3) (26067,)\n"
     ]
    }
   ],
   "source": [
    "# Create X (features) and y (response)\n",
    "reg_feature_cols = [\"diet_code\", \"drugs_code\", \"sex_code\"]\n",
    "X_reg = df_reg.loc[:, reg_feature_cols]\n",
    "y_reg = df_reg.height\n",
    "print(X_reg.shape, y_reg.shape)"
   ]
  },
  {
   "cell_type": "code",
   "execution_count": 43,
   "metadata": {},
   "outputs": [],
   "source": [
    "# Create regression model training and testing sets\n",
    "X_reg_train, X_reg_test, y_reg_train, y_reg_test = train_test_split(X_reg, y_reg, random_state=1)"
   ]
  },
  {
   "cell_type": "markdown",
   "metadata": {},
   "source": [
    "# 7. Use Classification Techniques\n",
    "## 7A. Model data for classification question"
   ]
  },
  {
   "cell_type": "markdown",
   "metadata": {},
   "source": [
    "### Logistic Regression Model"
   ]
  },
  {
   "cell_type": "code",
   "execution_count": 44,
   "metadata": {},
   "outputs": [],
   "source": [
    "# Import Logistic Regression model\n",
    "from sklearn.linear_model import LogisticRegression\n",
    "\n",
    "# instantiate the model\n",
    "logreg = LogisticRegression()"
   ]
  },
  {
   "cell_type": "code",
   "execution_count": 45,
   "metadata": {},
   "outputs": [
    {
     "name": "stdout",
     "output_type": "stream",
     "text": [
      "CPU times: user 192 ms, sys: 12.4 ms, total: 205 ms\n",
      "Wall time: 54.9 ms\n",
      "Training Accuracy:\n"
     ]
    },
    {
     "data": {
      "text/plain": [
       "0.8292144406569569"
      ]
     },
     "execution_count": 45,
     "metadata": {},
     "output_type": "execute_result"
    }
   ],
   "source": [
    "# Fit, time, score the training accuracy\n",
    "%time logreg.fit(X_train_scaled, y_train)\n",
    "print(\"Training Accuracy:\")\n",
    "logreg.score(X_train_scaled, y_train)"
   ]
  },
  {
   "cell_type": "markdown",
   "metadata": {},
   "source": [
    "### K Nearest Neighbors Model"
   ]
  },
  {
   "cell_type": "code",
   "execution_count": 46,
   "metadata": {},
   "outputs": [],
   "source": [
    "# Import K Nearest Neighbors model\n",
    "from sklearn.neighbors import KNeighborsClassifier "
   ]
  },
  {
   "cell_type": "markdown",
   "metadata": {},
   "source": [
    "#### KNN K=1"
   ]
  },
  {
   "cell_type": "code",
   "execution_count": 47,
   "metadata": {},
   "outputs": [
    {
     "name": "stdout",
     "output_type": "stream",
     "text": [
      "CPU times: user 202 ms, sys: 89 µs, total: 202 ms\n",
      "Wall time: 201 ms\n",
      "Training Accuracy:\n"
     ]
    },
    {
     "data": {
      "text/plain": [
       "0.8058955686396033"
      ]
     },
     "execution_count": 47,
     "metadata": {},
     "output_type": "execute_result"
    }
   ],
   "source": [
    "# Instantiate the model with K=1\n",
    "knn = KNeighborsClassifier(n_neighbors=1)\n",
    "\n",
    "# Fit, time, score the training accuracy\n",
    "%time knn.fit(X_train_scaled, y_train)\n",
    "print(\"Training Accuracy:\")\n",
    "knn.score(X_train_scaled, y_train)"
   ]
  },
  {
   "cell_type": "markdown",
   "metadata": {},
   "source": [
    "#### KNN K=5"
   ]
  },
  {
   "cell_type": "code",
   "execution_count": 48,
   "metadata": {},
   "outputs": [
    {
     "name": "stdout",
     "output_type": "stream",
     "text": [
      "CPU times: user 200 ms, sys: 0 ns, total: 200 ms\n",
      "Wall time: 199 ms\n",
      "Training Accuracy:\n"
     ]
    },
    {
     "data": {
      "text/plain": [
       "0.8328168577626278"
      ]
     },
     "execution_count": 48,
     "metadata": {},
     "output_type": "execute_result"
    }
   ],
   "source": [
    "# Instantiate the model with K=5\n",
    "knn = KNeighborsClassifier(n_neighbors=5)\n",
    "\n",
    "# Fit, time, score the training accuracy\n",
    "%time knn.fit(X_train_scaled, y_train)\n",
    "print(\"Training Accuracy:\")\n",
    "knn.score(X_train_scaled, y_train)"
   ]
  },
  {
   "cell_type": "markdown",
   "metadata": {},
   "source": [
    "# 9. Analyze the Accuracy, Precision and Recall\n",
    "\n",
    "## 9A. Classification model metrics"
   ]
  },
  {
   "cell_type": "code",
   "execution_count": 49,
   "metadata": {},
   "outputs": [],
   "source": [
    "from sklearn import metrics"
   ]
  },
  {
   "cell_type": "markdown",
   "metadata": {},
   "source": [
    "### Score Logistic Regression Model"
   ]
  },
  {
   "cell_type": "code",
   "execution_count": 50,
   "metadata": {},
   "outputs": [
    {
     "name": "stdout",
     "output_type": "stream",
     "text": [
      "Accuracy:  0.8270973739251685\n",
      "Precision:  0.8265134165201126\n",
      "Recall:  0.8270973739251685\n"
     ]
    }
   ],
   "source": [
    "# Results on the Testing Set\n",
    "y_pred = logreg.predict(X_test_scaled)\n",
    "print(\"Accuracy: \", metrics.accuracy_score(y_test, y_pred))\n",
    "print(\"Precision: \", metrics.precision_score(y_test, y_pred, average=\"weighted\"))\n",
    "print(\"Recall: \", metrics.recall_score(y_test, y_pred, average=\"weighted\"))"
   ]
  },
  {
   "cell_type": "markdown",
   "metadata": {},
   "source": [
    "### Score KNN Model\n",
    "### K=1"
   ]
  },
  {
   "cell_type": "code",
   "execution_count": 51,
   "metadata": {},
   "outputs": [
    {
     "name": "stdout",
     "output_type": "stream",
     "text": [
      "CPU times: user 201 ms, sys: 6 µs, total: 201 ms\n",
      "Wall time: 200 ms\n",
      "Accuracy:  0.7829421333953056\n",
      "Precision:  0.783163884427593\n",
      "Recall:  0.7829421333953056\n"
     ]
    }
   ],
   "source": [
    "# Results on the Testing Set K=1\n",
    "knn = KNeighborsClassifier(n_neighbors=1)\n",
    "%time knn.fit(X_train_scaled, y_train)\n",
    "y_pred = knn.predict(X_test_scaled)\n",
    "print(\"Accuracy: \", metrics.accuracy_score(y_test, y_pred))\n",
    "print(\"Precision: \", metrics.precision_score(y_test, y_pred, average=\"weighted\"))\n",
    "print(\"Recall: \", metrics.recall_score(y_test, y_pred, average=\"weighted\"))"
   ]
  },
  {
   "cell_type": "markdown",
   "metadata": {},
   "source": [
    "### K=5"
   ]
  },
  {
   "cell_type": "code",
   "execution_count": 52,
   "metadata": {},
   "outputs": [
    {
     "name": "stdout",
     "output_type": "stream",
     "text": [
      "CPU times: user 199 ms, sys: 0 ns, total: 199 ms\n",
      "Wall time: 203 ms\n",
      "Accuracy:  0.8178015338136184\n",
      "Precision:  0.81712750721065\n",
      "Recall:  0.8178015338136184\n"
     ]
    }
   ],
   "source": [
    "# Results on the Testing Set K=5\n",
    "knn = KNeighborsClassifier(n_neighbors=5)\n",
    "%time knn.fit(X_train_scaled, y_train)\n",
    "y_pred = knn.predict(X_test_scaled)\n",
    "print(\"Accuracy: \", metrics.accuracy_score(y_test, y_pred))\n",
    "print(\"Precision: \", metrics.precision_score(y_test, y_pred, average=\"weighted\"))\n",
    "print(\"Recall: \", metrics.recall_score(y_test, y_pred, average=\"weighted\"))"
   ]
  },
  {
   "cell_type": "markdown",
   "metadata": {},
   "source": [
    "### Can we find a better value for K?"
   ]
  },
  {
   "cell_type": "code",
   "execution_count": 53,
   "metadata": {},
   "outputs": [],
   "source": [
    "# try K=1 through K=25 and record testing accuracy\n",
    "k_range = list(range(1, 26))\n",
    "scores = []\n",
    "for k in k_range:\n",
    "    knn = KNeighborsClassifier(n_neighbors=k)\n",
    "    knn.fit(X_train_scaled, y_train)\n",
    "    scores.append(knn.score(X_test_scaled, y_test))"
   ]
  },
  {
   "cell_type": "code",
   "execution_count": 54,
   "metadata": {},
   "outputs": [
    {
     "data": {
      "image/png": "[encoded data removed]",
      "text/plain": [
       "<Figure size 1008x432 with 1 Axes>"
      ]
     },
     "metadata": {},
     "output_type": "display_data"
    }
   ],
   "source": [
    "# plot the relationship between K and testing accuracy\n",
    "plt.figure(figsize=(14, 6))\n",
    "plt.plot(k_range, scores, marker=\"o\")\n",
    "plt.title('Testing Accuracy for K= 1 to 25', fontsize=20)\n",
    "plt.xlabel('Value of K for KNN')\n",
    "plt.ylabel('Testing Accuracy')\n",
    "plt.show()"
   ]
  },
  {
   "cell_type": "code",
   "execution_count": 55,
   "metadata": {},
   "outputs": [
    {
     "name": "stdout",
     "output_type": "stream",
     "text": [
      "Max testing data score:  0.833720660004648\n",
      "Index:  17\n"
     ]
    }
   ],
   "source": [
    "print(\"Max testing data score: \", max(scores))\n",
    "print(\"Index: \", scores.index(max(scores)))"
   ]
  },
  {
   "cell_type": "code",
   "execution_count": 56,
   "metadata": {},
   "outputs": [
    {
     "name": "stdout",
     "output_type": "stream",
     "text": [
      "CPU times: user 202 ms, sys: 0 ns, total: 202 ms\n",
      "Wall time: 201 ms\n",
      "Training Accuracy:\n"
     ]
    },
    {
     "data": {
      "text/plain": [
       "0.833720660004648"
      ]
     },
     "execution_count": 56,
     "metadata": {},
     "output_type": "execute_result"
    }
   ],
   "source": [
    "# Highest accuracy for K= 1 to 25 was K=18\n",
    "knn = KNeighborsClassifier(n_neighbors=18)\n",
    "%time knn.fit(X_train_scaled, y_train)\n",
    "print(\"Training Accuracy:\")\n",
    "knn.score(X_test_scaled, y_test)"
   ]
  },
  {
   "cell_type": "markdown",
   "metadata": {},
   "source": [
    "### Null Accuracy"
   ]
  },
  {
   "cell_type": "code",
   "execution_count": 57,
   "metadata": {},
   "outputs": [
    {
     "data": {
      "text/plain": [
       "1    0.578119\n",
       "0    0.421881\n",
       "Name: sex_code, dtype: float64"
      ]
     },
     "execution_count": 57,
     "metadata": {},
     "output_type": "execute_result"
    }
   ],
   "source": [
    "# Null Accuracy\n",
    "y.value_counts(normalize=True)"
   ]
  },
  {
   "cell_type": "markdown",
   "metadata": {},
   "source": [
    "![green-divider](https://user-images.githubusercontent.com/7065401/52071924-c003ad80-2562-11e9-8297-1c6595f8a7ff.png)\n",
    "\n",
    "### Accuracy results for classification models \n",
    "1. K Nearest Neighbor K=1 = **78.3%** (197 ms)\n",
    "2. K Nearest Neighbor K=5 = **81.8%** (195 ms)\n",
    "3. K Nearest Neighbor K=18 = **83.4%** (197 ms)\n",
    "4. Logistic Regression = **82.7%** (62.1 ms)\n",
    "5. Null accuracy = **57.8%**\n",
    "\n",
    "KNN and Logistic Regression both scored around **83%** accuracy. Significantly better than null accuracy of 58%\n",
    "\n",
    "![green-divider](https://user-images.githubusercontent.com/7065401/52071924-c003ad80-2562-11e9-8297-1c6595f8a7ff.png)"
   ]
  },
  {
   "cell_type": "markdown",
   "metadata": {},
   "source": [
    "# 8. Use Regression Techniques\n",
    "## Multiple Linear Regression"
   ]
  },
  {
   "cell_type": "code",
   "execution_count": 58,
   "metadata": {},
   "outputs": [
    {
     "name": "stdout",
     "output_type": "stream",
     "text": [
      "CPU times: user 7.15 ms, sys: 0 ns, total: 7.15 ms\n",
      "Wall time: 5.37 ms\n"
     ]
    },
    {
     "data": {
      "text/plain": [
       "LinearRegression()"
      ]
     },
     "execution_count": 58,
     "metadata": {},
     "output_type": "execute_result"
    }
   ],
   "source": [
    "# import model\n",
    "from sklearn.linear_model import LinearRegression\n",
    "\n",
    "# instantiate\n",
    "linreg = LinearRegression()\n",
    "\n",
    "# fit the model to the training data (learn the coefficients)\n",
    "%time linreg.fit(X_reg_train, y_reg_train)"
   ]
  },
  {
   "cell_type": "code",
   "execution_count": 59,
   "metadata": {},
   "outputs": [
    {
     "data": {
      "text/plain": [
       "0.4398039711719711"
      ]
     },
     "execution_count": 59,
     "metadata": {},
     "output_type": "execute_result"
    }
   ],
   "source": [
    "linreg.score(X_reg_train, y_reg_train)"
   ]
  },
  {
   "cell_type": "code",
   "execution_count": 60,
   "metadata": {},
   "outputs": [
    {
     "name": "stdout",
     "output_type": "stream",
     "text": [
      "64.97996809014819\n",
      "[0.04243895 0.35335833 5.33233958]\n"
     ]
    }
   ],
   "source": [
    "# print the intercept and coefficients\n",
    "print(linreg.intercept_)\n",
    "print(linreg.coef_)"
   ]
  },
  {
   "cell_type": "code",
   "execution_count": 61,
   "metadata": {},
   "outputs": [
    {
     "data": {
      "text/plain": [
       "[('diet', 0.04243895326807145),\n",
       " ('drinks', 0.3533583299528109),\n",
       " ('drugs', 5.332339583540007)]"
      ]
     },
     "execution_count": 61,
     "metadata": {},
     "output_type": "execute_result"
    }
   ],
   "source": [
    "# pair the feature names with the coefficients\n",
    "list(zip(feature_cols, linreg.coef_))"
   ]
  },
  {
   "cell_type": "markdown",
   "metadata": {},
   "source": [
    "## K Neighbors Regressor Model"
   ]
  },
  {
   "cell_type": "code",
   "execution_count": 62,
   "metadata": {},
   "outputs": [
    {
     "name": "stdout",
     "output_type": "stream",
     "text": [
      "CPU times: user 256 ms, sys: 0 ns, total: 256 ms\n",
      "Wall time: 255 ms\n",
      "0.4043591876608905\n"
     ]
    }
   ],
   "source": [
    "# import K Neighbors Regressor model\n",
    "from sklearn.neighbors import KNeighborsRegressor\n",
    "\n",
    "# instantiate\n",
    "knr = KNeighborsRegressor(n_neighbors=5, weights=\"distance\")\n",
    "\n",
    "# fit the model to the training data\n",
    "%time knr.fit(X_reg_train, y_reg_train)\n",
    "\n",
    "# score KNR model on training data\n",
    "print(knr.score(X_reg_train, y_reg_train))"
   ]
  },
  {
   "cell_type": "markdown",
   "metadata": {},
   "source": [
    "# 9B. Regression model metrics"
   ]
  },
  {
   "cell_type": "markdown",
   "metadata": {},
   "source": [
    "## Multiple Linear Regression metrics"
   ]
  },
  {
   "cell_type": "code",
   "execution_count": 63,
   "metadata": {},
   "outputs": [
    {
     "name": "stdout",
     "output_type": "stream",
     "text": [
      "R^2 on training set:  0.4398039711719711\n",
      "R^2 on testing set:  0.4491875574130858\n"
     ]
    }
   ],
   "source": [
    "# make predictions on the testing set\n",
    "y_pred = linreg.predict(X_reg_test)\n",
    "\n",
    "# R^2 score on training data\n",
    "print(\"R^2 on training set: \", linreg.score(X_reg_train, y_reg_train))\n",
    "# R^2 score on testing data\n",
    "print(\"R^2 on testing set: \", linreg.score(X_reg_test, y_reg_test))"
   ]
  },
  {
   "cell_type": "code",
   "execution_count": 64,
   "metadata": {
    "scrolled": true
   },
   "outputs": [
    {
     "data": {
      "image/png": "[encoded data removed]",
      "text/plain": [
       "<Figure size 864x360 with 1 Axes>"
      ]
     },
     "metadata": {},
     "output_type": "display_data"
    }
   ],
   "source": [
    "# Graph predictions from testing set\n",
    "plt.figure(figsize=(12, 5))\n",
    "plt.scatter(y_reg_test, y_pred, color=\"tab:blue\", alpha=0.5)\n",
    "plt.title(\"Predicted Height Vs Actual Height R^2 = 0.45\", fontsize=18)\n",
    "plt.xlabel(\"Actual Height: $Y_i$\", fontsize=12)\n",
    "plt.ylabel(\"Predicted Height: $\\hat{Y}_i$\", fontsize=12)\n",
    "plt.show()"
   ]
  },
  {
   "cell_type": "markdown",
   "metadata": {},
   "source": [
    "### Model evaluation metrics for regression\n",
    "\n",
    "Evaluation metrics for classification problems, such as **accuracy**, are not useful for regression problems. Instead, we need evaluation metrics designed for comparing continuous values.\n",
    "\n",
    "Let's calculate **the most common evaluation metric** for regression problems:"
   ]
  },
  {
   "cell_type": "markdown",
   "metadata": {},
   "source": [
    "**Root Mean Squared Error** (RMSE) is the square root of the mean of the squared errors:\n",
    "\n",
    "$$\\sqrt{\\frac 1n\\sum_{i=1}^n(y_i-\\hat{y}_i)^2}$$"
   ]
  },
  {
   "cell_type": "code",
   "execution_count": 65,
   "metadata": {},
   "outputs": [
    {
     "name": "stdout",
     "output_type": "stream",
     "text": [
      "2.9156327455085047\n"
     ]
    }
   ],
   "source": [
    "# calculate RMSE using scikit-learn\n",
    "from sklearn import metrics\n",
    "\n",
    "print(np.sqrt(metrics.mean_squared_error(y_reg_test, y_pred)))"
   ]
  },
  {
   "cell_type": "markdown",
   "metadata": {},
   "source": [
    "RMSE is roughly 3 inches"
   ]
  },
  {
   "cell_type": "markdown",
   "metadata": {},
   "source": [
    "## KNR Model Evaluation\n",
    "### KNR K=5"
   ]
  },
  {
   "cell_type": "code",
   "execution_count": 66,
   "metadata": {},
   "outputs": [
    {
     "name": "stdout",
     "output_type": "stream",
     "text": [
      "Training set R^2:  0.4043591876608905\n",
      "Testing set R^2:  0.41311678499935345\n"
     ]
    }
   ],
   "source": [
    "print(\"Training set R^2: \", knr.score(X_reg_train, y_reg_train))\n",
    "print(\"Testing set R^2: \", knr.score(X_reg_test, y_reg_test))"
   ]
  },
  {
   "cell_type": "markdown",
   "metadata": {},
   "source": [
    "### Can we achieve higher R^2 with a different value for K?"
   ]
  },
  {
   "cell_type": "code",
   "execution_count": 67,
   "metadata": {},
   "outputs": [],
   "source": [
    "k_range = range(1, 51)\n",
    "scores = []\n",
    "for k in k_range:\n",
    "    knr = KNeighborsRegressor(n_neighbors=k)\n",
    "    knr.fit(X_reg_train, y_reg_train)\n",
    "    scores.append(knr.score(X_reg_test, y_reg_test))    "
   ]
  },
  {
   "cell_type": "code",
   "execution_count": 68,
   "metadata": {
    "scrolled": true
   },
   "outputs": [
    {
     "data": {
      "image/png": "[encoded data removed]",
      "text/plain": [
       "<Figure size 864x360 with 1 Axes>"
      ]
     },
     "metadata": {},
     "output_type": "display_data"
    }
   ],
   "source": [
    "plt.figure(figsize=(12,5))\n",
    "plt.plot(k_range, scores, color=\"tab:red\")\n",
    "plt.title(\"KNR Coefficient of Determination\", fontsize=20)\n",
    "plt.xlabel(\"K\", fontsize=14)\n",
    "plt.ylabel(\"R^2\", fontsize=14)\n",
    "plt.show()"
   ]
  },
  {
   "cell_type": "code",
   "execution_count": 69,
   "metadata": {},
   "outputs": [
    {
     "data": {
      "text/plain": [
       "30"
      ]
     },
     "execution_count": 69,
     "metadata": {},
     "output_type": "execute_result"
    }
   ],
   "source": [
    "# Maximum R^2 is K=31\n",
    "scores.index(max(scores))"
   ]
  },
  {
   "cell_type": "code",
   "execution_count": 70,
   "metadata": {},
   "outputs": [
    {
     "name": "stdout",
     "output_type": "stream",
     "text": [
      "CPU times: user 258 ms, sys: 22 µs, total: 258 ms\n",
      "Wall time: 257 ms\n",
      "0.4438303591545545\n"
     ]
    }
   ],
   "source": [
    "# Accuracy score for K=31\n",
    "knr = KNeighborsRegressor(n_neighbors=31)\n",
    "%time knr.fit(X_reg_train, y_reg_train)\n",
    "print(knr.score(X_reg_test, y_reg_test))"
   ]
  },
  {
   "cell_type": "code",
   "execution_count": 71,
   "metadata": {},
   "outputs": [
    {
     "name": "stdout",
     "output_type": "stream",
     "text": [
      "2.929777149258132\n"
     ]
    }
   ],
   "source": [
    "# RMSE\n",
    "y_pred = knr.predict(X_reg_test)\n",
    "print(np.sqrt(metrics.mean_squared_error(y_reg_test, y_pred)))"
   ]
  },
  {
   "cell_type": "markdown",
   "metadata": {},
   "source": [
    "![green-divider](https://user-images.githubusercontent.com/7065401/52071924-c003ad80-2562-11e9-8297-1c6595f8a7ff.png)\n",
    "\n",
    "### Results for regression models \n",
    "1. KNR K=5 R^2 = **0.413** (253 ms)\n",
    "2. KNR K=31 R^2 = **0.444** (252 ms)\n",
    "3. Linear Regression R^2 (training set) = **0.450** (6.7 ms)\n",
    "4. Linear Regression Root Mean Squared Error = **2.92** (roughly 3 inches)\n",
    "5. KNR RMSE: **2.93**\n",
    "\n",
    "Models have **R^2** around **0.45** showing some linear relationship. **RMSE** of around **3** inches isn't bad considering the number of outliers in the data.\n",
    "\n",
    "y response class `height` range= 9 in. to 95 in. (0'-9\" to 7'-9\")\n",
    "\n",
    "![purple-divider](https://user-images.githubusercontent.com/7065401/52071927-c1cd7100-2562-11e9-908a-dde91ba14e59.png)"
   ]
  }
 ],
 "metadata": {
  "kernelspec": {
   "display_name": "Python 3",
   "language": "python",
   "name": "python3"
  },
  "language_info": {
   "codemirror_mode": {
    "name": "ipython",
    "version": 3
   },
   "file_extension": ".py",
   "mimetype": "text/x-python",
   "name": "python",
   "nbconvert_exporter": "python",
   "pygments_lexer": "ipython3",
   "version": "3.8.3"
  }
 },
 "nbformat": 4,
 "nbformat_minor": 4
}
